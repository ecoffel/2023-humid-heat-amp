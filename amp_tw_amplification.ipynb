{
 "cells": [
  {
   "cell_type": "code",
   "execution_count": 15,
   "metadata": {},
   "outputs": [],
   "source": [
    "import rasterio as rio\n",
    "import matplotlib.pyplot as plt \n",
    "import matplotlib.patches as patches\n",
    "\n",
    "from matplotlib.colors import Normalize\n",
    "import numpy as np\n",
    "import numpy.matlib\n",
    "from scipy import interpolate\n",
    "from scipy import stats\n",
    "import statsmodels.api as sm\n",
    "import statsmodels.formula.api as smf\n",
    "import scipy.stats as st\n",
    "import scipy\n",
    "import os, sys, pickle, gzip\n",
    "import datetime\n",
    "import geopy.distance\n",
    "import xarray as xr\n",
    "import pandas as pd\n",
    "import rasterio\n",
    "import geopandas as gpd\n",
    "import shapely.geometry\n",
    "import shapely.ops\n",
    "import xesmf as xe\n",
    "import cartopy\n",
    "import cartopy.crs as ccrs\n",
    "from cartopy.io.shapereader import Reader\n",
    "from cartopy.feature import ShapelyFeature\n",
    "from cartopy.util import add_cyclic_point\n",
    "import itertools\n",
    "import random\n",
    "import metpy\n",
    "from metpy.plots import USCOUNTIES\n",
    "\n",
    "from dask.diagnostics import ProgressBar\n",
    "from dask.distributed import Client, progress\n",
    "\n",
    "import warnings\n",
    "warnings.filterwarnings('ignore')"
   ]
  },
  {
   "cell_type": "code",
   "execution_count": 16,
   "metadata": {},
   "outputs": [
    {
     "name": "stdout",
     "output_type": "stream",
     "text": [
      "The autoreload extension is already loaded. To reload it, use:\n",
      "  %reload_ext autoreload\n"
     ]
    }
   ],
   "source": [
    "run ../util/setupConsole_su"
   ]
  },
  {
   "cell_type": "code",
   "execution_count": 3,
   "metadata": {},
   "outputs": [
    {
     "name": "stdout",
     "output_type": "stream",
     "text": [
      "['sm_on_txx_1982.nc', 'sm_on_txx_1983.nc', 'sm_on_txx_1984.nc', 'sm_on_txx_1985.nc', 'sm_on_txx_1986.nc', 'sm_on_txx_1987.nc', 'sm_on_txx_1988.nc', 'sm_on_txx_1989.nc', 'sm_on_txx_1990.nc', 'sm_on_txx_1991.nc', 'sm_on_txx_1992.nc', 'sm_on_txx_1993.nc', 'sm_on_txx_1994.nc', 'sm_on_txx_1995.nc', 'sm_on_txx_1996.nc', 'sm_on_txx_1997.nc', 'sm_on_txx_1998.nc', 'sm_on_txx_1999.nc', 'sm_on_txx_2000.nc', 'sm_on_txx_2001.nc', 'sm_on_txx_2002.nc', 'sm_on_txx_2003.nc', 'sm_on_txx_2004.nc', 'sm_on_txx_2005.nc', 'sm_on_txx_2006.nc', 'sm_on_txx_2007.nc', 'sm_on_txx_2008.nc', 'sm_on_txx_2009.nc', 'sm_on_txx_2010.nc', 'sm_on_txx_2011.nc', 'sm_on_txx_2012.nc', 'sm_on_txx_2013.nc', 'sm_on_txx_2014.nc', 'sm_on_txx_2015.nc', 'sm_on_txx_2016.nc', 'sm_on_txx_2017.nc', 'sm_on_txx_2018.nc', 'sm_on_txx_2019.nc', 'sm_on_txx_2020.nc']\n"
     ]
    }
   ],
   "source": [
    "# # List of original filenames\n",
    "# filenames = [f\"sm_on_txx_{year}\" for year in range(1982, 2021)]\n",
    "\n",
    "# # Add the \".nc\" extension to all filenames\n",
    "# filenames_with_extension = [filename + \".nc\" for filename in filenames]\n",
    "\n",
    "# print(filenames_with_extension)\n",
    "\n",
    "# import os\n",
    "\n",
    "\n",
    "# # Iterate over the files in the directory\n",
    "# for i in range(len(filenames)):\n",
    "\n",
    "#     os.rename(filenames[i], filenames_with_extension[i])\n",
    "\n"
   ]
  },
  {
   "cell_type": "code",
   "execution_count": 17,
   "metadata": {},
   "outputs": [],
   "source": [
    "cmip6_models = ['bcc-csm2-mr', 'bcc-esm1', 'canesm5', \\\n",
    "                'kace-1-0-g', 'ipsl-cm6a-lr', 'miroc6', \\\n",
    "                'mri-esm2-0', 'noresm2-lm']\n",
    "\n",
    "cmip6_lat = np.arange(-90, 90, 1.5)\n",
    "cmip6_lon = np.arange(0, 360, 1.5)\n"
   ]
  },
  {
   "cell_type": "code",
   "execution_count": 18,
   "metadata": {},
   "outputs": [],
   "source": [
    "dirAgData = '/home/edcoffel/drive/MAX-Filer/Research/Climate-01/Personal-F20/edcoffel-F20/data/projects/ag-land-climate'\n",
    "dirEra5 = '/home/edcoffel/drive/MAX-Filer/Research/Climate-02/Data-02-edcoffel-F20/ERA5'\n",
    "dirEra5Land = '/home/edcoffel/drive/MAX-Filer/Research/Climate-02/Data-02-edcoffel-F20/ERA5-Land'\n",
    "dirCMIP6 = '/home/edcoffel/drive/MAX-Filer/Research/Climate-02/Data-02-edcoffel-F20/CMIP6'\n",
    "dirHeatData = '/home/edcoffel/drive/MAX-Filer/Research/Climate-01/Personal-F20/edcoffel-F20/data/projects/2021-heat'\n",
    "dirAg6 = '/home/edcoffel/drive/MAX-Filer/Research/Climate-01/Personal-F20/edcoffel-F20/research/2020-ag-cmip6'"
   ]
  },
  {
   "cell_type": "code",
   "execution_count": 19,
   "metadata": {},
   "outputs": [],
   "source": [
    "era5_max_deciles = xr.open_dataset('%s/era5_tw_max_deciles.nc'%dirHeatData)\n",
    "lat = era5_max_deciles.latitude.values\n",
    "lon = era5_max_deciles.longitude.values"
   ]
  },
  {
   "cell_type": "code",
   "execution_count": 20,
   "metadata": {},
   "outputs": [],
   "source": [
    "land_sea_mask = xr.open_dataset('%s/land-sea-mask.nc'%dirEra5)\n",
    "land_sea_mask.load()\n",
    "land_sea_mask = land_sea_mask.lsm.mean(dim='time')\n",
    "land_sea_mask_binary = land_sea_mask > 0.1\n"
   ]
  },
  {
   "cell_type": "code",
   "execution_count": 21,
   "metadata": {},
   "outputs": [],
   "source": [
    "from datetime import datetime\n",
    "def add_time_dim(xda):\n",
    "    xda = xda.expand_dims(time = [datetime.now()])\n",
    "    return xda\n",
    "\n",
    "time_dim = pd.date_range(\"1981-01-01\", \"2021-12-31\", freq=\"AS\")\n",
    "era5_var_deciles = xr.open_mfdataset('deciles/tx/era5_tasmax_deciles_*.nc', preprocess = add_time_dim, concat_dim='time')\n",
    "era5_var_deciles['time'] = time_dim\n",
    "era5_var_deciles = era5_var_deciles.chunk(chunks={\"time\": -1, \"latitude\": 50, \"longitude\": 50})\n",
    "era5_var_deciles = era5_var_deciles.chunk({\"time\": -1})\n",
    "era5_var_deciles = era5_var_deciles.chunk({\"bin\": -1})\n",
    "\n"
   ]
  },
  {
   "cell_type": "code",
   "execution_count": 22,
   "metadata": {},
   "outputs": [],
   "source": [
    "land_sea_mask_binary = land_sea_mask_binary.broadcast_like(era5_var_deciles)\n",
    "era5_var_deciles_masked = era5_var_deciles.where(land_sea_mask_binary)"
   ]
  },
  {
   "cell_type": "code",
   "execution_count": 23,
   "metadata": {},
   "outputs": [],
   "source": [
    "def linregress_ufunc(x, y):\n",
    "    slope, intercept, r_value, p_value, std_err = scipy.stats.linregress(x, y)\n",
    "    return slope, p_value\n",
    "\n",
    "\n",
    "\n",
    "def apply_trend_and_pvalue(ds, time_dim='time', x_dim='longitude', y_dim='latitude', bin_dim='bin'):\n",
    "    # Extract the year information from the time coordinates\n",
    "    time_years = ds[time_dim].dt.year.values\n",
    "    unique_years = np.unique(time_years)\n",
    "    \n",
    "    # Broadcast unique_years along the time dimension\n",
    "    unique_years_broadcasted = xr.DataArray(unique_years, dims=[time_dim], coords={time_dim: ds[time_dim]})\n",
    "    \n",
    "    trend, p_value = xr.apply_ufunc(\n",
    "        linregress_ufunc,\n",
    "        unique_years_broadcasted,\n",
    "        ds,\n",
    "        input_core_dims=[[time_dim], [time_dim]],\n",
    "        output_core_dims=[[], []],\n",
    "        vectorize=True,\n",
    "        dask=\"parallelized\",\n",
    "        output_dtypes=[float, float]\n",
    "    )\n",
    "\n",
    "    trend = trend.rename(\"tasmax_trend\")\n",
    "    p_value = p_value.rename(\"tasmax_trend_p_value\")\n",
    "    \n",
    "    return xr.merge([trend, p_value])\n",
    "\n",
    "\n",
    "\n"
   ]
  },
  {
   "cell_type": "code",
   "execution_count": 25,
   "metadata": {},
   "outputs": [],
   "source": [
    "temperature_trend = apply_trend_and_pvalue(era5_var_deciles_masked[\"mx2t_deciles\"])"
   ]
  },
  {
   "cell_type": "code",
   "execution_count": 27,
   "metadata": {},
   "outputs": [],
   "source": [
    "# trend_ds = xr.Dataset({\"tw_trend_deciles\": temperature_trend})"
   ]
  },
  {
   "cell_type": "code",
   "execution_count": 28,
   "metadata": {},
   "outputs": [],
   "source": [
    "client = Client()"
   ]
  },
  {
   "cell_type": "code",
   "execution_count": 29,
   "metadata": {},
   "outputs": [],
   "source": [
    "with ProgressBar():\n",
    "    temperature_trend.compute().to_netcdf(\"era5_tasmax_trends_by_decile.nc\")\n",
    "#     dask.array.store(trend_ds[\"tw_trend_deciles\"].data, output_ds[\"tw_trend_deciles\"].data, lock=False)"
   ]
  }
 ],
 "metadata": {
  "kernelspec": {
   "display_name": "ecoffel",
   "language": "python",
   "name": "ecoffel"
  },
  "language_info": {
   "codemirror_mode": {
    "name": "ipython",
    "version": 3
   },
   "file_extension": ".py",
   "mimetype": "text/x-python",
   "name": "python",
   "nbconvert_exporter": "python",
   "pygments_lexer": "ipython3",
   "version": "3.6.12"
  }
 },
 "nbformat": 4,
 "nbformat_minor": 4
}
