{
 "cells": [
  {
   "cell_type": "code",
   "execution_count": 15,
   "metadata": {},
   "outputs": [],
   "source": [
    "import rasterio as rio\n",
    "import matplotlib.pyplot as plt \n",
    "import matplotlib.patches as patches\n",
    "\n",
    "from matplotlib.colors import Normalize\n",
    "import numpy as np\n",
    "import numpy.matlib\n",
    "from scipy import interpolate\n",
    "from scipy import stats\n",
    "import statsmodels.api as sm\n",
    "import statsmodels.formula.api as smf\n",
    "import scipy.stats as st\n",
    "import scipy\n",
    "import os, sys, pickle, gzip\n",
    "import datetime\n",
    "import geopy.distance\n",
    "import xarray as xr\n",
    "import pandas as pd\n",
    "import rasterio\n",
    "import geopandas as gpd\n",
    "import shapely.geometry\n",
    "import shapely.ops\n",
    "import xesmf as xe\n",
    "import cartopy\n",
    "import cartopy.crs as ccrs\n",
    "from cartopy.io.shapereader import Reader\n",
    "from cartopy.feature import ShapelyFeature\n",
    "from cartopy.util import add_cyclic_point\n",
    "import itertools\n",
    "import random\n",
    "import metpy\n",
    "from metpy.plots import USCOUNTIES\n",
    "\n",
    "from dask.diagnostics import ProgressBar\n",
    "from dask.distributed import Client, progress\n",
    "\n",
    "import warnings\n",
    "warnings.filterwarnings('ignore')"
   ]
  },
  {
   "cell_type": "code",
   "execution_count": 16,
   "metadata": {},
   "outputs": [
    {
     "name": "stdout",
     "output_type": "stream",
     "text": [
      "The autoreload extension is already loaded. To reload it, use:\n",
      "  %reload_ext autoreload\n"
     ]
    }
   ],
   "source": [
    "run ../util/setupConsole_su"
   ]
  },
  {
   "cell_type": "code",
   "execution_count": 17,
   "metadata": {},
   "outputs": [],
   "source": [
    "cmip6_models = ['bcc-csm2-mr', 'bcc-esm1', 'canesm5', \\\n",
    "                'kace-1-0-g', 'ipsl-cm6a-lr', 'miroc6', \\\n",
    "                'mri-esm2-0', 'noresm2-lm']\n",
    "\n",
    "cmip6_lat = np.arange(-90, 90, 1.5)\n",
    "cmip6_lon = np.arange(0, 360, 1.5)\n"
   ]
  },
  {
   "cell_type": "code",
   "execution_count": 18,
   "metadata": {},
   "outputs": [],
   "source": [
    "dirAgData = '/home/edcoffel/drive/MAX-Filer/Research/Climate-01/Personal-F20/edcoffel-F20/data/projects/ag-land-climate'\n",
    "dirEra5 = '/home/edcoffel/drive/MAX-Filer/Research/Climate-02/Data-02-edcoffel-F20/ERA5'\n",
    "dirEra5Land = '/home/edcoffel/drive/MAX-Filer/Research/Climate-02/Data-02-edcoffel-F20/ERA5-Land'\n",
    "dirCMIP6 = '/home/edcoffel/drive/MAX-Filer/Research/Climate-02/Data-02-edcoffel-F20/CMIP6'\n",
    "dirHeatData = '/home/edcoffel/drive/MAX-Filer/Research/Climate-01/Personal-F20/edcoffel-F20/data/projects/2021-heat'\n",
    "dirAg6 = '/home/edcoffel/drive/MAX-Filer/Research/Climate-01/Personal-F20/edcoffel-F20/research/2020-ag-cmip6'"
   ]
  },
  {
   "cell_type": "code",
   "execution_count": 19,
   "metadata": {},
   "outputs": [],
   "source": [
    "era5_max_deciles = xr.open_dataset('%s/era5_tw_max_deciles.nc'%dirHeatData)\n",
    "lat = era5_max_deciles.latitude.values\n",
    "lon = era5_max_deciles.longitude.values"
   ]
  },
  {
   "cell_type": "code",
   "execution_count": 20,
   "metadata": {},
   "outputs": [],
   "source": [
    "# client = Client(n_workers=2)\n",
    "# tn_era5 = xr.open_mfdataset('%s/daily/tasmin_*.nc'%dirEra5)\n",
    "# tn_era5 = tn_era5.sel(time=slice('1981', '2021'))\n",
    "# tn_era5_mean = tn_era5.mean(dim='time')\n",
    "# # tn_era5_mean.compute()\n",
    "# tn_era5_mean.to_netcdf('era5_tasmin_mean.nc')"
   ]
  },
  {
   "cell_type": "code",
   "execution_count": 21,
   "metadata": {},
   "outputs": [],
   "source": [
    "land_sea_mask = xr.open_dataset('%s/land-sea-mask.nc'%dirEra5)\n",
    "land_sea_mask.load()\n",
    "land_sea_mask = land_sea_mask.lsm.mean(dim='time')\n",
    "land_sea_mask_binary = land_sea_mask > 0.1\n"
   ]
  },
  {
   "cell_type": "code",
   "execution_count": 22,
   "metadata": {},
   "outputs": [],
   "source": [
    "from datetime import datetime\n",
    "def add_time_dim(xda):\n",
    "    xda = xda.expand_dims(time = [datetime.now()])\n",
    "    return xda\n",
    "\n",
    "time_dim = pd.date_range(\"1981-01-01\", \"2021-12-31\", freq=\"AS\")\n",
    "era5_var_deciles = xr.open_mfdataset('deciles/tx/era5_tasmax_deciles_warm_season_*.nc', preprocess = add_time_dim, concat_dim='time')\n",
    "era5_var_deciles['time'] = time_dim\n",
    "era5_var_deciles = era5_var_deciles.chunk(chunks={\"time\": -1, \"latitude\": 50, \"longitude\": 50})\n",
    "era5_var_deciles = era5_var_deciles.chunk({\"time\": -1})\n",
    "era5_var_deciles = era5_var_deciles.chunk({\"quantile\": -1})\n",
    "\n",
    "\n",
    "# from datetime import datetime\n",
    "# def add_time_dim(xda):\n",
    "#     xda = xda.expand_dims(time = [datetime.now()])\n",
    "#     return xda\n",
    "\n",
    "# time_dim = pd.date_range(\"1981-01-01\", \"2020-12-31\", freq=\"AS\")\n",
    "# era5_var_deciles = xr.open_mfdataset('output/sm_on_txx/sm_on_tx_deciles_*.nc', preprocess = add_time_dim, concat_dim='time')\n",
    "# era5_var_deciles = era5_var_deciles.rename({'__xarray_dataarray_variable__':'sm_on_tx'})\n",
    "# era5_var_deciles['time'] = time_dim\n",
    "# era5_var_deciles = era5_var_deciles.chunk(chunks={\"time\": -1, \"latitude\": 50, \"longitude\": 50})\n",
    "# era5_var_deciles = era5_var_deciles.chunk({\"time\": -1})\n",
    "# era5_var_deciles = era5_var_deciles.chunk({\"decile\": -1})\n",
    "\n"
   ]
  },
  {
   "cell_type": "code",
   "execution_count": 23,
   "metadata": {},
   "outputs": [],
   "source": [
    "land_sea_mask_binary = land_sea_mask_binary.broadcast_like(era5_var_deciles)\n",
    "era5_var_deciles_masked = era5_var_deciles.where(land_sea_mask_binary)"
   ]
  },
  {
   "cell_type": "code",
   "execution_count": 24,
   "metadata": {},
   "outputs": [],
   "source": [
    "def linregress_ufunc(x, y):\n",
    "    slope, intercept, r_value, p_value, std_err = scipy.stats.linregress(x, y)\n",
    "    return slope, p_value\n",
    "\n",
    "\n",
    "\n",
    "def apply_trend_and_pvalue(ds, time_dim='time', x_dim='longitude', y_dim='latitude', bin_dim='quantile'):\n",
    "    # Extract the year information from the time coordinates\n",
    "    time_years = ds[time_dim].dt.year.values\n",
    "    unique_years = np.unique(time_years)\n",
    "    \n",
    "    # Broadcast unique_years along the time dimension\n",
    "    unique_years_broadcasted = xr.DataArray(unique_years, dims=[time_dim], coords={time_dim: ds[time_dim]})\n",
    "    \n",
    "    trend, p_value = xr.apply_ufunc(\n",
    "        linregress_ufunc,\n",
    "        unique_years_broadcasted,\n",
    "        ds,\n",
    "        input_core_dims=[[time_dim], [time_dim]],\n",
    "        output_core_dims=[[], []],\n",
    "        vectorize=True,\n",
    "        dask=\"parallelized\",\n",
    "        output_dtypes=[float, float]\n",
    "    )\n",
    "\n",
    "    trend = trend.rename(\"tasmax_warm_season_trend\")\n",
    "    p_value = p_value.rename(\"tasmax_warm_season_trend_p_value\")\n",
    "    \n",
    "    return xr.merge([trend, p_value])\n",
    "\n",
    "\n",
    "\n"
   ]
  },
  {
   "cell_type": "code",
   "execution_count": 25,
   "metadata": {},
   "outputs": [],
   "source": [
    "# temperature_trend = apply_trend_and_pvalue(era5_var_deciles_masked[\"mn2t_deciles\"])\n",
    "tasmax_trend_warm_season = apply_trend_and_pvalue(era5_var_deciles_masked[\"mx2t\"])"
   ]
  },
  {
   "cell_type": "code",
   "execution_count": 26,
   "metadata": {},
   "outputs": [],
   "source": [
    "# trend_ds = xr.Dataset({\"tw_trend_deciles\": temperature_trend})"
   ]
  },
  {
   "cell_type": "code",
   "execution_count": 27,
   "metadata": {},
   "outputs": [],
   "source": [
    "client = Client()"
   ]
  },
  {
   "cell_type": "code",
   "execution_count": null,
   "metadata": {},
   "outputs": [],
   "source": [
    "with ProgressBar():\n",
    "#     temperature_trend.compute().to_netcdf(\"era5_sm_on_tx_trends_by_decile.nc\")\n",
    "    tasmax_trend_warm_season.compute().to_netcdf(\"era5_tasmax_warm_season_trends_by_decile.nc\")\n",
    "#     dask.array.store(trend_ds[\"tw_trend_deciles\"].data, output_ds[\"tw_trend_deciles\"].data, lock=False)"
   ]
  },
  {
   "cell_type": "code",
   "execution_count": null,
   "metadata": {},
   "outputs": [],
   "source": []
  }
 ],
 "metadata": {
  "kernelspec": {
   "display_name": "ecoffel",
   "language": "python",
   "name": "ecoffel"
  },
  "language_info": {
   "codemirror_mode": {
    "name": "ipython",
    "version": 3
   },
   "file_extension": ".py",
   "mimetype": "text/x-python",
   "name": "python",
   "nbconvert_exporter": "python",
   "pygments_lexer": "ipython3",
   "version": "3.6.12"
  }
 },
 "nbformat": 4,
 "nbformat_minor": 4
}
